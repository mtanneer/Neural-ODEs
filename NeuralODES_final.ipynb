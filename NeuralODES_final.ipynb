{
  "cells": [
    {
      "cell_type": "code",
      "execution_count": 1,
      "metadata": {
        "id": "SRVQPNCIA0R9"
      },
      "outputs": [],
      "source": [
        "!pip install torchdiffeq --quiet"
      ]
    },
    {
      "cell_type": "code",
      "execution_count": null,
      "metadata": {
        "id": "mGndz2VGA3pb"
      },
      "outputs": [],
      "source": [
        "import numpy as np\n",
        "import torch\n",
        "import torch.nn as nn\n",
        "from torch.utils.data import DataLoader\n",
        "import torch.nn.functional as F\n",
        "import torchvision.transforms as transforms\n",
        "import torchvision.datasets as datasets\n",
        "import time\n",
        "import os\n",
        "import matplotlib.pyplot as plt\n",
        "from torchdiffeq import odeint_adjoint as odeint"
      ]
    },
    {
      "cell_type": "code",
      "execution_count": 3,
      "metadata": {
        "id": "e2yNa69HBiWf"
      },
      "outputs": [],
      "source": [
        "device = torch.device('cuda:0' if torch.cuda.is_available() else 'cpu')"
      ]
    },
    {
      "cell_type": "code",
      "execution_count": 4,
      "metadata": {
        "id": "YlTM1ThsA6uZ"
      },
      "outputs": [],
      "source": [
        "def conv3x3(in_planes, out_planes, stride=1):\n",
        "    \"\"\"3x3 convolution with padding\"\"\"\n",
        "    return nn.Conv2d(in_planes, out_planes, kernel_size=3, stride=stride, padding=1, bias=False)\n",
        "\n",
        "\n",
        "def conv1x1(in_planes, out_planes, stride=1):\n",
        "    \"\"\"1x1 convolution\"\"\"\n",
        "    return nn.Conv2d(in_planes, out_planes, kernel_size=1, stride=stride, bias=False)\n",
        "\n",
        "\n",
        "def norm(dim):\n",
        "    return nn.GroupNorm(min(32, dim), dim)"
      ]
    },
    {
      "cell_type": "code",
      "execution_count": null,
      "metadata": {},
      "outputs": [],
      "source": [
        "class NormResBlock(nn.Module):\n",
        "    expansion = 1\n",
        "    def __init__(self, inplanes, planes, stride=1, downsample=None):\n",
        "        super(NormResBlock, self).__init__()\n",
        "        \n",
        "        self.relu = nn.ReLU(inplace=True)\n",
        "        self.downsample = downsample\n",
        "        \n",
        "        self.layers = nn.Sequential(\n",
        "            norm(inplanes),\n",
        "            self.relu,\n",
        "            conv3x3(inplanes, planes, stride)\n",
        "        )\n",
        "        \n",
        "        self.middle_layers = nn.Sequential(\n",
        "            norm(planes),\n",
        "            self.relu,\n",
        "            conv1x1(inplanes,planes,stride),\n",
        "            conv3x3(planes, planes)\n",
        "        )\n",
        "\n",
        "    def forward(self, x):\n",
        "        shortcut = x\n",
        "        out = self.layers(x)\n",
        "        \n",
        "        if self.downsample is not None:\n",
        "            shortcut = self.downsample(out)\n",
        "        \n",
        "        out = self.middle_layers(out)\n",
        "        return out + shortcut"
      ]
    },
    {
      "cell_type": "code",
      "execution_count": 5,
      "metadata": {
        "id": "qwgIWuyZnRxa"
      },
      "outputs": [],
      "source": [
        "class Conv2d(nn.Module):\n",
        "    def __init__(self, dim_in, dim_out, ksize=3, stride=1, padding=0, dilation=1, groups=1, bias=True, transpose=False):\n",
        "        super(Conv2d, self).__init__()\n",
        "        module = nn.ConvTranspose2d if transpose else nn.Conv2d\n",
        "        conv_layer = module(\n",
        "            dim_in + 1, dim_out, kernel_size=ksize, stride=stride, padding=padding, dilation=dilation, groups=groups,\n",
        "            bias=bias\n",
        "        )\n",
        "        self.add_module(\"conv_layer\", conv_layer)\n",
        "\n",
        "    def forward(self, t, x):\n",
        "        tt = torch.ones_like(x[:, :1, :, :]) * t\n",
        "        ttx = torch.cat([tt, x], 1)\n",
        "        return self.conv_layer(ttx)"
      ]
    },
    {
      "cell_type": "code",
      "execution_count": null,
      "metadata": {},
      "outputs": [],
      "source": [
        "class ODEfunc(nn.Module):\n",
        "    def __init__(self, dim):\n",
        "        super(ODEfunc, self).__init__()\n",
        "\n",
        "        self.layers = nn.Sequential(\n",
        "            norm(dim),\n",
        "            nn.ReLU(inplace=True),\n",
        "            Conv2d(dim, dim, 3, 1, 1),\n",
        "            norm(dim),\n",
        "            nn.ReLU(inplace=True),\n",
        "            Conv2d(dim, dim, 3, 1, 1),\n",
        "            norm(dim)\n",
        "        )\n",
        "\n",
        "    def forward(self, t, x):\n",
        "        out = self.layers[0](x)\n",
        "        out = self.layers[1](out)\n",
        "        out = self.layers[2](t, out)\n",
        "        out = self.layers[3](out)\n",
        "        out = self.layers[4](out)\n",
        "        out = self.layers[5](t, out)\n",
        "        out = self.layers[6](out)\n",
        "        return out\n",
        "\n",
        "class ODEBlock(nn.Module):\n",
        "    def __init__(self, odefunc):\n",
        "        super(ODEBlock, self).__init__()\n",
        "        self.integration_time = torch.tensor([0, 1]).float()\n",
        "        self.odefunc = odefunc\n",
        "\n",
        "    def forward(self, x):\n",
        "        self.integration_time = self.integration_time.to(x.device)\n",
        "        out = odeint(self.odefunc, x, self.integration_time, rtol=1e-3, atol=1e-3)\n",
        "        return out[1]"
      ]
    },
    {
      "cell_type": "code",
      "execution_count": null,
      "metadata": {},
      "outputs": [],
      "source": [
        "def inf_loop(iterable):\n",
        "    iterator = iterable.__iter__()\n",
        "    while 1:\n",
        "        try:\n",
        "            yield iterator.__next__()\n",
        "        except StopIteration:\n",
        "            iterator = iterable.__iter__()\n",
        "\n",
        "\n",
        "def lr_decay(batch_size, batch_denom, batches_per_epoch, boundary_epochs, decay_rates):\n",
        "    intital = 0.1 * batch_size / batch_denom\n",
        "\n",
        "    ends = [int(batches_per_epoch * epoch) for epoch in boundary_epochs]\n",
        "    vals = [intital * decay for decay in decay_rates]\n",
        "\n",
        "    def lr_fn(itr):\n",
        "        lt = [itr < b for b in ends] + [True]\n",
        "        i = np.argmax(lt)\n",
        "        return vals[i]\n",
        "\n",
        "    return lr_fn"
      ]
    },
    {
      "cell_type": "code",
      "execution_count": 6,
      "metadata": {
        "id": "GTZqR0KxBLPd"
      },
      "outputs": [],
      "source": [
        "def mnist_loaders(batch_size=128, test_batch_size=1000, perc=1.0):\n",
        "    transform_train = transforms.Compose([\n",
        "        transforms.RandomCrop(28, padding=4),\n",
        "        transforms.ToTensor(),\n",
        "    ])\n",
        "\n",
        "    transform_test = transforms.Compose([\n",
        "        transforms.ToTensor(),\n",
        "    ])\n",
        "\n",
        "    test_loader = DataLoader(\n",
        "        datasets.MNIST(root='.data/mnist', train=False, download=True, transform=transform_test),\n",
        "        batch_size=test_batch_size, shuffle=False, num_workers=2, drop_last=True\n",
        "    )\n",
        "    \n",
        "    train_loader = DataLoader(\n",
        "        datasets.MNIST(root='.data/mnist', train=True, download=True, transform=transform_train), batch_size=batch_size,\n",
        "        shuffle=True, num_workers=2, drop_last=True\n",
        "    )\n",
        "\n",
        "    train_eval_loader = DataLoader(\n",
        "        datasets.MNIST(root='.data/mnist', train=True, download=True, transform=transform_test),\n",
        "        batch_size=test_batch_size, shuffle=False, num_workers=2, drop_last=True\n",
        "    )\n",
        "\n",
        "\n",
        "    return train_loader, test_loader, train_eval_loader"
      ]
    },
    {
      "cell_type": "code",
      "execution_count": null,
      "metadata": {},
      "outputs": [],
      "source": [
        "# generic accuracy checker\n",
        "def accuracy(model, dataset_loader):\n",
        "    total_correct = 0\n",
        "    for x, y in dataset_loader:\n",
        "        x = x.to(device)\n",
        "        y = np.array(np.array(y.numpy())[:, None] == np.arange(10)[None, :], dtype=int)\n",
        "\n",
        "        target_class = np.argmax(y, axis=1)\n",
        "        predicted_class = np.argmax(model(x).cpu().detach().numpy(), axis=1)\n",
        "        total_correct += np.sum(predicted_class == target_class)\n",
        "    return total_correct / len(dataset_loader.dataset)"
      ]
    },
    {
      "cell_type": "code",
      "execution_count": 8,
      "metadata": {
        "id": "iSrZnIlZBUZ1"
      },
      "outputs": [],
      "source": [
        "def train_and_evalute(model_name,epochs):\n",
        "  train_acc_l = []\n",
        "  val_acc_l = []\n",
        "\n",
        "  is_odenet = model_name == 'ODENet'\n",
        "\n",
        "  if is_odenet == True:\n",
        "      downsampling_layers = [nn.Conv2d(1, 64, 3, 1),norm(64),nn.ReLU(inplace=True),nn.Conv2d(64, 64, 4, 2, 1),norm(64),nn.ReLU(inplace=True),nn.Conv2d(64, 64, 4, 2, 1),]\n",
        "\n",
        "  elif is_odenet == False:\n",
        "      downsampling_layers = [nn.Conv2d(1, 64, 3, 1),NormResBlock(64, 64, stride=2, downsample=conv1x1(64, 64, 2)),NormResBlock(64, 64, stride=2, downsample=conv1x1(64, 64, 2)),]\n",
        "\n",
        "  train_loader, test_loader, train_eval_loader = mnist_loaders(128, 1000)\n",
        "\n",
        "  data_gen = inf_loop(train_loader)\n",
        "  batches_per_epoch = len(train_loader)\n",
        "  \n",
        "  layers = [ODEBlock(ODEfunc(64))] if is_odenet else [NormResBlock(64, 64) for _ in range(6)]\n",
        "  layers_l = [norm(64), nn.ReLU(inplace=True), nn.AdaptiveAvgPool2d((1, 1)), nn.Flatten(), nn.Linear(64, 10)]\n",
        "\n",
        "  model = nn.Sequential(*downsampling_layers, *layers, *layers_l).to(device)\n",
        "  criterion = nn.CrossEntropyLoss().to(device)\n",
        "  optimizer = torch.optim.SGD(model.parameters(), lr=0.1, momentum=0.9)\n",
        "\n",
        "\n",
        "  lr_fn = lr_decay(128, batch_denom=128, batches_per_epoch=batches_per_epoch, boundary_epochs=[60, 100, 140],decay_rates=[1, 0.1, 0.01, 0.001])\n",
        "\n",
        "  for itr in range(epochs * batches_per_epoch):\n",
        "      for param_group in optimizer.param_groups:\n",
        "          param_group['lr'] = lr_fn(itr)\n",
        "\n",
        "      optimizer.zero_grad()\n",
        "      x, y = data_gen.__next__()\n",
        "      x = x.to(device)\n",
        "      y = y.to(device)\n",
        "      mod = model(x)\n",
        "      loss = criterion(mod, y)\n",
        "\n",
        "      loss.backward()\n",
        "      optimizer.step()\n",
        "\n",
        "      if itr % batches_per_epoch == 0:\n",
        "          with torch.no_grad():\n",
        "              train_acc = accuracy(model, train_eval_loader)\n",
        "              train_acc_l.append((train_acc,itr // batches_per_epoch))\n",
        "              val_acc = accuracy(model, test_loader)\n",
        "              val_acc_l.append((val_acc,itr // batches_per_epoch))\n",
        "            print(f\"Epoch {itr // batches_per_epoch:04d} | Train Acc {train_acc:.4f} | Test Acc {val_acc:.4f}\")\n",
        "\n",
        "  return model, train_acc_l, val_acc_l"
      ]
    },
    {
      "cell_type": "code",
      "execution_count": null,
      "metadata": {
        "colab": {
          "base_uri": "https://localhost:8080/"
        },
        "id": "togy9iofEOOO",
        "outputId": "25c88a63-e317-4f61-aed1-733309d671cd"
      },
      "outputs": [],
      "source": [
        "epochs = 500\n",
        "print(\"ODENET-------------------------------\")\n",
        "model_odenet, train_acc_ode, val_acc_ode = train_and_evalute('ODENet',epochs)\n",
        "print(\"RESNET-------------------------------\")\n",
        "model_resnet, train_acc_res, val_acc_res  = train_and_evalute('ResNet',epochs)"
      ]
    },
    {
      "cell_type": "code",
      "execution_count": null,
      "metadata": {
        "colab": {
          "base_uri": "https://localhost:8080/",
          "height": 489
        },
        "id": "6iLSWuoJOez5",
        "outputId": "a3c73108-59d7-4d30-df22-5456f708712e"
      },
      "outputs": [],
      "source": [
        "plt.figure()\n",
        "x_val_ode = [x[1] for x in train_acc_ode]\n",
        "y_val_ode = [x[0] for x in train_acc_ode]\n",
        "\n",
        "x_val_res = [x[1] for x in train_acc_res]\n",
        "y_val_res = [x[0] for x in train_acc_res]\n",
        "\n",
        "plt.plot(x_val_ode[2:], y_val_ode[2:], label='ODE Training Accuracy', linewidth=1.5)\n",
        "plt.plot(x_val_res[2:], y_val_res[2:], label='RES Training Accuracy', linewidth=1.5)\n",
        "plt.scatter(x_val_ode[2:], y_val_ode[2:], s=5)\n",
        "plt.scatter(x_val_res[2:], y_val_res[2:], s=5)\n",
        "plt.legend()\n",
        "plt.title(\"Training Accuracy\")\n",
        "plt.ylabel(\"Accuracy\")\n",
        "plt.xlabel(\"Epochs\")"
      ]
    },
    {
      "cell_type": "code",
      "execution_count": null,
      "metadata": {
        "colab": {
          "base_uri": "https://localhost:8080/",
          "height": 489
        },
        "id": "4GEtM7jESrgt",
        "outputId": "6266606a-b8f2-4015-8e96-6b3570372309"
      },
      "outputs": [],
      "source": [
        "plt.figure()\n",
        "x_val_ode = [x[1] for x in val_acc_ode]\n",
        "y_val_ode = [x[0] for x in val_acc_ode]\n",
        "\n",
        "x_val_res = [x[1] for x in val_acc_res]\n",
        "y_val_res = [x[0] for x in val_acc_res]\n",
        "\n",
        "plt.plot(x_val_ode[2:], y_val_ode[2:], label='ODE Testing Accuracy', linewidth=1.5)\n",
        "plt.plot(x_val_res[2:], y_val_res[2:], label='RES Testing Accuracy', linewidth=1.5)\n",
        "plt.scatter(x_val_ode[2:], y_val_ode[2:], s=5)\n",
        "plt.scatter(x_val_res[2:], y_val_res[2:], s=5)\n",
        "plt.legend()\n",
        "plt.title(\"Testing Accuracy\")\n",
        "plt.ylabel(\"Accuracy\")\n",
        "plt.xlabel(\"Epochs\")"
      ]
    }
  ],
  "metadata": {
    "accelerator": "GPU",
    "colab": {
      "gpuType": "A100",
      "machine_shape": "hm",
      "provenance": []
    },
    "gpuClass": "standard",
    "kernelspec": {
      "display_name": "Python 3",
      "name": "python3"
    },
    "language_info": {
      "name": "python"
    }
  },
  "nbformat": 4,
  "nbformat_minor": 0
}
